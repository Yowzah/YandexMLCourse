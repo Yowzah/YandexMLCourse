{
 "cells": [
  {
   "cell_type": "code",
   "execution_count": 43,
   "metadata": {},
   "outputs": [],
   "source": [
    "from sklearn import datasets\n",
    "from sklearn.feature_extraction.text import TfidfVectorizer\n",
    "from sklearn.svm import SVC\n",
    "from sklearn.model_selection import KFold\n",
    "from sklearn.model_selection import cross_val_score\n",
    "import numpy as np\n",
    "from sklearn.model_selection import GridSearchCV"
   ]
  },
  {
   "cell_type": "code",
   "execution_count": 2,
   "metadata": {},
   "outputs": [
    {
     "name": "stderr",
     "output_type": "stream",
     "text": [
      "Downloading 20news dataset. This may take a few minutes.\n",
      "Downloading dataset from https://ndownloader.figshare.com/files/5975967 (14 MB)\n"
     ]
    }
   ],
   "source": [
    "newsgroups = datasets.fetch_20newsgroups(\n",
    "                    subset='all', \n",
    "                    categories=['alt.atheism', 'sci.space']\n",
    "             )"
   ]
  },
  {
   "cell_type": "code",
   "execution_count": 61,
   "metadata": {},
   "outputs": [],
   "source": [
    "tfidf = TfidfVectorizer(use_idf=True)\n",
    "X = newsgroups.data\n",
    "y = newsgroups.target"
   ]
  },
  {
   "cell_type": "code",
   "execution_count": 62,
   "metadata": {},
   "outputs": [
    {
     "name": "stdout",
     "output_type": "stream",
     "text": [
      "  (0, 12328)\t0.01370453937738971\n",
      "  (0, 3083)\t0.18354582904899466\n",
      "  (0, 16212)\t0.13087071621284083\n",
      "  (0, 26748)\t0.3586414018510131\n",
      "  (0, 10446)\t0.0877895428145851\n",
      "  (0, 5173)\t0.14700744118874529\n",
      "  (0, 25602)\t0.11312702126571896\n",
      "  (0, 9436)\t0.1603221752648857\n",
      "  (0, 6206)\t0.18354582904899466\n",
      "  (0, 24745)\t0.01370453937738971\n",
      "  (0, 21441)\t0.031971150014803995\n",
      "  (0, 15606)\t0.17973817843104967\n",
      "  (0, 22911)\t0.10589006137266588\n",
      "  (0, 24461)\t0.08966035046275328\n",
      "  (0, 20381)\t0.0657737589879958\n",
      "  (0, 19110)\t0.01430815397323633\n",
      "  (0, 8823)\t0.08966035046275328\n",
      "  (0, 9768)\t0.09732962706472326\n",
      "  (0, 16346)\t0.01372756577212755\n",
      "  (0, 1668)\t0.053216416571889205\n",
      "  (0, 14361)\t0.04446778160006921\n",
      "  (0, 4890)\t0.021242159802601628\n",
      "  (0, 1191)\t0.10682888989503368\n",
      "  (0, 12512)\t0.059332575743481546\n",
      "  (0, 6741)\t0.09587314565925223\n",
      "  :\t:\n",
      "  (1785, 8616)\t0.0961857077737838\n",
      "  (1785, 11782)\t0.05563580903402357\n",
      "  (1785, 10058)\t0.0742115230560897\n",
      "  (1785, 970)\t0.04188477714101907\n",
      "  (1785, 16405)\t0.055955356753644464\n",
      "  (1785, 28298)\t0.06414667087168414\n",
      "  (1785, 8301)\t0.06556642067069891\n",
      "  (1785, 13477)\t0.06908456815988931\n",
      "  (1785, 11783)\t0.046298088316921296\n",
      "  (1785, 8620)\t0.11127161806804714\n",
      "  (1785, 4291)\t0.05103653969516073\n",
      "  (1785, 8629)\t0.0742115230560897\n",
      "  (1785, 16514)\t0.1269966238015523\n",
      "  (1785, 12602)\t0.28544325907011486\n",
      "  (1785, 18927)\t0.1484230461121794\n",
      "  (1785, 19343)\t0.0742115230560897\n",
      "  (1785, 11465)\t0.0742115230560897\n",
      "  (1785, 18099)\t0.0742115230560897\n",
      "  (1785, 17085)\t0.2226345691682691\n",
      "  (1785, 6967)\t0.16111870689050883\n",
      "  (1785, 16314)\t0.08382258697314414\n",
      "  (1785, 25655)\t0.08055935344525442\n",
      "  (1785, 8638)\t0.17684371262401397\n",
      "  (1785, 12224)\t0.17684371262401397\n",
      "  (1785, 8639)\t0.08842185631200698\n"
     ]
    }
   ],
   "source": [
    "data = tfidf.fit_transform(X)\n",
    "feature_mapping = tfidf.get_feature_names()\n",
    "print (data)"
   ]
  },
  {
   "cell_type": "code",
   "execution_count": 52,
   "metadata": {},
   "outputs": [
    {
     "data": {
      "text/plain": [
       "GridSearchCV(cv=KFold(n_splits=5, random_state=241, shuffle=True),\n",
       "       error_score='raise',\n",
       "       estimator=SVC(C=1.0, cache_size=200, class_weight=None, coef0=0.0,\n",
       "  decision_function_shape='ovr', degree=3, gamma='auto', kernel='linear',\n",
       "  max_iter=-1, probability=False, random_state=241, shrinking=True,\n",
       "  tol=0.001, verbose=False),\n",
       "       fit_params=None, iid=True, n_jobs=1,\n",
       "       param_grid={'C': array([1.e-05, 1.e-04, 1.e-03, 1.e-02, 1.e-01, 1.e+00, 1.e+01, 1.e+02,\n",
       "       1.e+03, 1.e+04, 1.e+05])},\n",
       "       pre_dispatch='2*n_jobs', refit=True, return_train_score='warn',\n",
       "       scoring='accuracy', verbose=0)"
      ]
     },
     "execution_count": 52,
     "metadata": {},
     "output_type": "execute_result"
    }
   ],
   "source": [
    "grid = {'C': np.power(10.0, np.arange(-5, 6))}\n",
    "cv = KFold(n_splits=5, shuffle=True, random_state=241)\n",
    "clf = SVC(kernel='linear', random_state=241)\n",
    "gs = GridSearchCV(clf, grid, scoring='accuracy', cv=cv)\n",
    "gs.fit(data, newsgroups.target)"
   ]
  },
  {
   "cell_type": "code",
   "execution_count": 63,
   "metadata": {},
   "outputs": [],
   "source": [
    "svc = gs.best_estimator_"
   ]
  },
  {
   "cell_type": "code",
   "execution_count": 65,
   "metadata": {},
   "outputs": [
    {
     "data": {
      "text/plain": [
       "SVC(C=1.0, cache_size=200, class_weight=None, coef0=0.0,\n",
       "  decision_function_shape='ovr', degree=3, gamma='auto', kernel='linear',\n",
       "  max_iter=-1, probability=False, random_state=241, shrinking=True,\n",
       "  tol=0.001, verbose=False)"
      ]
     },
     "execution_count": 65,
     "metadata": {},
     "output_type": "execute_result"
    }
   ],
   "source": [
    "svc.fit(data, y)"
   ]
  },
  {
   "cell_type": "code",
   "execution_count": 86,
   "metadata": {},
   "outputs": [],
   "source": [
    "top10idx = np.array(svc.coef_.indices)[np.abs(np.array(svc.coef_.data)).argsort()[-10:]]"
   ]
  },
  {
   "cell_type": "code",
   "execution_count": 89,
   "metadata": {},
   "outputs": [
    {
     "name": "stdout",
     "output_type": "stream",
     "text": [
      "atheism,atheists,bible,god,keith,moon,religion,sci,sky,space,"
     ]
    }
   ],
   "source": [
    "a = []\n",
    "for i in top10idx:\n",
    "    a.append(feature_mapping[i].lower())\n",
    "a.sort()\n",
    "for i in a:\n",
    "    print(i, end=',')"
   ]
  },
  {
   "cell_type": "code",
   "execution_count": null,
   "metadata": {},
   "outputs": [],
   "source": []
  }
 ],
 "metadata": {
  "kernelspec": {
   "display_name": "Python 3",
   "language": "python",
   "name": "python3"
  },
  "language_info": {
   "codemirror_mode": {
    "name": "ipython",
    "version": 3
   },
   "file_extension": ".py",
   "mimetype": "text/x-python",
   "name": "python",
   "nbconvert_exporter": "python",
   "pygments_lexer": "ipython3",
   "version": "3.6.5"
  }
 },
 "nbformat": 4,
 "nbformat_minor": 2
}
