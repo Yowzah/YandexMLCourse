{
 "cells": [
  {
   "cell_type": "code",
   "execution_count": 115,
   "metadata": {},
   "outputs": [],
   "source": [
    "import numpy as np\n",
    "import pandas as pd\n",
    "import csv\n",
    "\n",
    "import warnings\n",
    "warnings.filterwarnings('ignore')\n",
    "\n",
    "from sklearn.model_selection  import train_test_split\n",
    "from sklearn.ensemble import GradientBoostingClassifier\n",
    "from sklearn.ensemble import GradientBoostingRegressor\n",
    "from sklearn.ensemble import RandomForestClassifier\n",
    "from sklearn.metrics import log_loss\n",
    "import matplotlib.pyplot as plt\n",
    "import math"
   ]
  },
  {
   "cell_type": "code",
   "execution_count": 173,
   "metadata": {},
   "outputs": [],
   "source": [
    "data = pd.read_csv(\"gbm-data.csv\").values"
   ]
  },
  {
   "cell_type": "code",
   "execution_count": 174,
   "metadata": {},
   "outputs": [
    {
     "data": {
      "text/plain": [
       "array([[1.        , 0.        , 0.49700901, ..., 0.        , 0.        ,\n",
       "        0.        ],\n",
       "       [1.        , 0.36666667, 0.60629148, ..., 0.        , 1.        ,\n",
       "        0.        ],\n",
       "       [1.        , 0.0333    , 0.48012427, ..., 0.        , 0.        ,\n",
       "        0.        ],\n",
       "       ...,\n",
       "       [0.        , 0.2       , 0.52056377, ..., 0.        , 0.        ,\n",
       "        0.        ],\n",
       "       [1.        , 0.1       , 0.7656462 , ..., 0.        , 0.        ,\n",
       "        0.        ],\n",
       "       [0.        , 0.13333333, 0.53395198, ..., 0.        , 0.        ,\n",
       "        0.        ]])"
      ]
     },
     "execution_count": 174,
     "metadata": {},
     "output_type": "execute_result"
    }
   ],
   "source": [
    "data"
   ]
  },
  {
   "cell_type": "code",
   "execution_count": 175,
   "metadata": {},
   "outputs": [],
   "source": [
    "X = data[:,0]\n",
    "y = data[:,1:]"
   ]
  },
  {
   "cell_type": "code",
   "execution_count": 196,
   "metadata": {},
   "outputs": [],
   "source": [
    "y_train,y_test,X_train,X_test = train_test_split(X, y, test_size=0.8, random_state=241)"
   ]
  },
  {
   "cell_type": "code",
   "execution_count": 199,
   "metadata": {
    "scrolled": false
   },
   "outputs": [
    {
     "name": "stdout",
     "output_type": "stream",
     "text": [
      "      Iter       Train Loss   Remaining Time \n",
      "         1           1.0190           16.93s\n",
      "         2           0.9192           15.49s\n",
      "         3           0.8272           13.77s\n",
      "         4           0.7834           13.08s\n",
      "         5           0.7109           13.32s\n",
      "         6           0.6368           13.42s\n",
      "         7           0.5797           13.06s\n",
      "         8           0.5610           12.55s\n",
      "         9           0.5185           12.73s\n",
      "        10           0.4984           12.42s\n",
      "        20           0.1999           11.72s\n",
      "        30           0.1313           11.06s\n",
      "        40           0.0790           10.42s\n",
      "        50           0.0511            9.76s\n",
      "        60           0.0352            9.25s\n",
      "        70           0.0245            8.64s\n",
      "        80           0.0162            8.13s\n",
      "        90           0.0114            7.57s\n",
      "       100           0.0077            7.06s\n",
      "       200           0.0004            2.06s\n"
     ]
    },
    {
     "ename": "TypeError",
     "evalue": "'numpy.float64' object is not callable",
     "output_type": "error",
     "traceback": [
      "\u001b[0;31m---------------------------------------------------------------------------\u001b[0m",
      "\u001b[0;31mTypeError\u001b[0m                                 Traceback (most recent call last)",
      "\u001b[0;32m<ipython-input-199-15ca0a6b1559>\u001b[0m in \u001b[0;36m<module>\u001b[0;34m\u001b[0m\n\u001b[1;32m     17\u001b[0m \u001b[0;34m\u001b[0m\u001b[0m\n\u001b[1;32m     18\u001b[0m \u001b[0;34m\u001b[0m\u001b[0m\n\u001b[0;32m---> 19\u001b[0;31m     \u001b[0mminum\u001b[0m \u001b[0;34m=\u001b[0m \u001b[0mmin\u001b[0m\u001b[0;34m(\u001b[0m\u001b[0mtest_loss\u001b[0m\u001b[0;34m)\u001b[0m\u001b[0;34m\u001b[0m\u001b[0;34m\u001b[0m\u001b[0m\n\u001b[0m\u001b[1;32m     20\u001b[0m     \u001b[0mindex\u001b[0m \u001b[0;34m=\u001b[0m \u001b[0mtest_loss\u001b[0m\u001b[0;34m.\u001b[0m\u001b[0mindex\u001b[0m\u001b[0;34m(\u001b[0m\u001b[0mminum\u001b[0m\u001b[0;34m)\u001b[0m\u001b[0;34m\u001b[0m\u001b[0;34m\u001b[0m\u001b[0m\n\u001b[1;32m     21\u001b[0m \u001b[0;34m\u001b[0m\u001b[0m\n",
      "\u001b[0;31mTypeError\u001b[0m: 'numpy.float64' object is not callable"
     ]
    }
   ],
   "source": [
    "minimum = []\n",
    "plt\n",
    "for learning_rate in [1, 0.5, 0.3, 0.2, 0.1]:\n",
    "    classifier = GradientBoostingClassifier(learning_rate = learning_rate, n_estimators=250, verbose=True, random_state=241)\n",
    "    classifier.fit(X_train, y_train)\n",
    "    \n",
    "    train_loss = [0 for i in range(250)]\n",
    "    test_loss = [0 for i in range(250)]\n",
    "    \n",
    "    for i, y_pred in enumerate(classifier.staged_decision_function(X_train)):\n",
    "        y_pred = 1.0 / (1.0 +np.exp(-y_pred))\n",
    "        train_loss[i] = log_loss(y_train, y_pred)\n",
    "    \n",
    "    for i, y_pred in enumerate(classifier.staged_decision_function(X_test)):\n",
    "        y_pred = [1 / (1 + math.exp(-k)) for k in y_pred]\n",
    "        test_loss[i] = log_loss(y_test, y_pred)\n",
    "        \n",
    "    \n",
    "    minum = min(test_loss)\n",
    "    index = test_loss.index(minum)\n",
    "    \n",
    "    minimum.append([learning_rate, minum, index])\n",
    "    plt.grid()\n",
    "    plt.plot(test_loss, 'r', linewidth = 2)\n",
    "    plt.plot(train_loss, 'g', linewidth = 2)\n",
    "    plt.legend(['test','train'])\n",
    "    plt.show()\n"
   ]
  },
  {
   "cell_type": "code",
   "execution_count": 198,
   "metadata": {},
   "outputs": [
    {
     "name": "stdout",
     "output_type": "stream",
     "text": [
      "[[1, 0.5269201872275844, 52], [0.5, 0.5269201872275844, 52], [0.3, 0.5269201872275844, 52], [0.2, 0.5269201872275844, 52], [0.1, 0.5269201872275844, 52]]\n"
     ]
    }
   ],
   "source": [
    "print(minimum)"
   ]
  },
  {
   "cell_type": "code",
   "execution_count": 113,
   "metadata": {},
   "outputs": [
    {
     "data": {
      "text/plain": [
       "7"
      ]
     },
     "execution_count": 113,
     "metadata": {},
     "output_type": "execute_result"
    }
   ],
   "source": [
    "open('answer2.txt', 'tw', encoding='utf-8').write(str(round(minimum[3][1],2))+' '+str(minimum[3][2]))"
   ]
  },
  {
   "cell_type": "code",
   "execution_count": 114,
   "metadata": {},
   "outputs": [
    {
     "data": {
      "text/plain": [
       "11"
      ]
     },
     "execution_count": 114,
     "metadata": {},
     "output_type": "execute_result"
    }
   ],
   "source": [
    "vopen('answer1.txt', 'tw', encoding='utf-8').write('overfitting')"
   ]
  },
  {
   "cell_type": "code",
   "execution_count": 170,
   "metadata": {},
   "outputs": [],
   "source": [
    "forest = GradientBoostingClassifier(n_estimators = 36, random_state=241)"
   ]
  },
  {
   "cell_type": "code",
   "execution_count": 171,
   "metadata": {},
   "outputs": [
    {
     "name": "stdout",
     "output_type": "stream",
     "text": [
      "0.5672749940622688\n"
     ]
    }
   ],
   "source": [
    "forest.fit(X_train, y_train)\n",
    "proba = forest.predict_proba(X_test)\n",
    "test_loss = log_loss(y_test, y_pred)\n",
    "print(test_loss)"
   ]
  },
  {
   "cell_type": "code",
   "execution_count": 135,
   "metadata": {},
   "outputs": [
    {
     "data": {
      "text/plain": [
       "4"
      ]
     },
     "execution_count": 135,
     "metadata": {},
     "output_type": "execute_result"
    }
   ],
   "source": [
    "open('answer3.txt', 'tw', encoding='utf-8').write(str(round(test_loss,2)))"
   ]
  },
  {
   "cell_type": "code",
   "execution_count": 200,
   "metadata": {},
   "outputs": [
    {
     "name": "stdout",
     "output_type": "stream",
     "text": [
      "1.3632148575543495\n",
      "1.3632148575543495\n",
      "1.3632148575543495\n",
      "1.3632148575543495\n",
      "1.3632148575543495\n",
      "1.3632148575543495\n",
      "1.3632148575543495\n",
      "1.3632148575543495\n",
      "1.3632148575543495\n",
      "1.3632148575543495\n",
      "1.3632148575543495\n",
      "1.3632148575543495\n",
      "1.3632148575543495\n",
      "1.3632148575543495\n",
      "1.3632148575543495\n",
      "1.3632148575543495\n",
      "1.3632148575543495\n",
      "1.3632148575543495\n",
      "1.3632148575543495\n",
      "1.3632148575543495\n",
      "1.3632148575543495\n",
      "1.3632148575543495\n",
      "1.3632148575543495\n",
      "1.3632148575543495\n",
      "1.3632148575543495\n",
      "1.3632148575543495\n",
      "1.3632148575543495\n",
      "1.3632148575543495\n",
      "1.3632148575543495\n",
      "1.3632148575543495\n",
      "1.3632148575543495\n",
      "1.3632148575543495\n",
      "1.3632148575543495\n",
      "1.3632148575543495\n",
      "1.3632148575543495\n",
      "1.3632148575543495\n",
      "1.3632148575543495\n",
      "1.3632148575543495\n",
      "1.3632148575543495\n"
     ]
    }
   ],
   "source": [
    "minim = 1000\n",
    "index = -1\n",
    "for i in range(11,50):\n",
    "    forest1 = RandomForestClassifier(n_estimators = i, random_state=241)\n",
    "    forest1.fit(X_train, y_train)\n",
    "    proba = forest1.predict_proba(X_test)\n",
    "    test_loss = log_loss(y_test, y_pred)\n",
    "    print(test_loss)\n",
    "    if (test_loss < minim):\n",
    "        minim = test_loss\n",
    "        index = i"
   ]
  },
  {
   "cell_type": "code",
   "execution_count": 152,
   "metadata": {},
   "outputs": [
    {
     "data": {
      "text/plain": [
       "0.5672749940622688"
      ]
     },
     "execution_count": 152,
     "metadata": {},
     "output_type": "execute_result"
    }
   ],
   "source": [
    "minim"
   ]
  },
  {
   "cell_type": "code",
   "execution_count": 153,
   "metadata": {},
   "outputs": [
    {
     "data": {
      "text/plain": [
       "11"
      ]
     },
     "execution_count": 153,
     "metadata": {},
     "output_type": "execute_result"
    }
   ],
   "source": [
    "index"
   ]
  },
  {
   "cell_type": "code",
   "execution_count": 195,
   "metadata": {},
   "outputs": [
    {
     "data": {
      "text/plain": [
       "750"
      ]
     },
     "execution_count": 195,
     "metadata": {},
     "output_type": "execute_result"
    }
   ],
   "source": [
    "len(c)"
   ]
  },
  {
   "cell_type": "code",
   "execution_count": 186,
   "metadata": {},
   "outputs": [
    {
     "data": {
      "text/plain": [
       "3001"
      ]
     },
     "execution_count": 186,
     "metadata": {},
     "output_type": "execute_result"
    }
   ],
   "source": [
    "len(X_test)"
   ]
  },
  {
   "cell_type": "code",
   "execution_count": 201,
   "metadata": {},
   "outputs": [
    {
     "data": {
      "text/plain": [
       "numpy.float64"
      ]
     },
     "execution_count": 201,
     "metadata": {},
     "output_type": "execute_result"
    }
   ],
   "source": [
    "type(min)"
   ]
  },
  {
   "cell_type": "code",
   "execution_count": null,
   "metadata": {},
   "outputs": [],
   "source": []
  }
 ],
 "metadata": {
  "kernelspec": {
   "display_name": "Python 3",
   "language": "python",
   "name": "python3"
  },
  "language_info": {
   "codemirror_mode": {
    "name": "ipython",
    "version": 3
   },
   "file_extension": ".py",
   "mimetype": "text/x-python",
   "name": "python",
   "nbconvert_exporter": "python",
   "pygments_lexer": "ipython3",
   "version": "3.6.7"
  }
 },
 "nbformat": 4,
 "nbformat_minor": 2
}
