{
 "cells": [
  {
   "cell_type": "code",
   "execution_count": 1,
   "metadata": {},
   "outputs": [],
   "source": [
    "import numpy as np\n",
    "import pandas as pd\n",
    "import csv\n",
    "\n",
    "import warnings\n",
    "warnings.filterwarnings('ignore')\n",
    "\n",
    "from sklearn.model_selection  import train_test_split\n",
    "from sklearn.ensemble import GradientBoostingClassifier\n",
    "from sklearn.ensemble import GradientBoostingRegressor\n",
    "from sklearn.ensemble import RandomForestClassifier\n",
    "from sklearn.metrics import log_loss\n",
    "import matplotlib.pyplot as plt\n",
    "import math"
   ]
  },
  {
   "cell_type": "code",
   "execution_count": 2,
   "metadata": {},
   "outputs": [],
   "source": [
    "data = pd.read_csv(\"gbm-data.csv\").values"
   ]
  },
  {
   "cell_type": "code",
   "execution_count": 3,
   "metadata": {},
   "outputs": [
    {
     "data": {
      "text/plain": [
       "array([[1.        , 0.        , 0.49700901, ..., 0.        , 0.        ,\n",
       "        0.        ],\n",
       "       [1.        , 0.36666667, 0.60629148, ..., 0.        , 1.        ,\n",
       "        0.        ],\n",
       "       [1.        , 0.0333    , 0.48012427, ..., 0.        , 0.        ,\n",
       "        0.        ],\n",
       "       ...,\n",
       "       [0.        , 0.2       , 0.52056377, ..., 0.        , 0.        ,\n",
       "        0.        ],\n",
       "       [1.        , 0.1       , 0.7656462 , ..., 0.        , 0.        ,\n",
       "        0.        ],\n",
       "       [0.        , 0.13333333, 0.53395198, ..., 0.        , 0.        ,\n",
       "        0.        ]])"
      ]
     },
     "execution_count": 3,
     "metadata": {},
     "output_type": "execute_result"
    }
   ],
   "source": [
    "data"
   ]
  },
  {
   "cell_type": "code",
   "execution_count": 7,
   "metadata": {},
   "outputs": [],
   "source": [
    "y = data[:,0]\n",
    "X = data[:,1:]"
   ]
  },
  {
   "cell_type": "code",
   "execution_count": 8,
   "metadata": {},
   "outputs": [],
   "source": [
    "X_train, X_test, y_train, y_test = train_test_split(X, y, test_size=0.8, random_state=241)"
   ]
  },
  {
   "cell_type": "code",
   "execution_count": 9,
   "metadata": {
    "scrolled": false
   },
   "outputs": [
    {
     "name": "stdout",
     "output_type": "stream",
     "text": [
      "      Iter       Train Loss   Remaining Time \n",
      "         1           1.0190           18.43s\n",
      "         2           0.9192           16.23s\n",
      "         3           0.8272           14.28s\n",
      "         4           0.7834           13.94s\n",
      "         5           0.7109           13.58s\n",
      "         6           0.6368           13.63s\n",
      "         7           0.5797           13.25s\n",
      "         8           0.5610           12.74s\n",
      "         9           0.5185           12.87s\n",
      "        10           0.4984           12.55s\n",
      "        20           0.1999           11.56s\n",
      "        30           0.1313           10.93s\n",
      "        40           0.0790           10.24s\n",
      "        50           0.0511            9.68s\n",
      "        60           0.0352            9.13s\n",
      "        70           0.0245            8.57s\n",
      "        80           0.0162            8.04s\n",
      "        90           0.0114            7.53s\n",
      "       100           0.0077            7.03s\n",
      "       200           0.0004            2.05s\n"
     ]
    },
    {
     "data": {
      "image/png": "[encoded data removed]",
      "text/plain": [
       "<Figure size 432x288 with 1 Axes>"
      ]
     },
     "metadata": {
      "needs_background": "light"
     },
     "output_type": "display_data"
    },
    {
     "name": "stdout",
     "output_type": "stream",
     "text": [
      "      Iter       Train Loss   Remaining Time \n",
      "         1           1.1255           14.38s\n",
      "         2           1.0035           14.22s\n",
      "         3           0.9386           14.08s\n",
      "         4           0.8844           13.52s\n",
      "         5           0.8381           13.14s\n",
      "         6           0.7995           12.60s\n",
      "         7           0.7559           12.25s\n",
      "         8           0.7205           12.00s\n",
      "         9           0.6958           11.93s\n",
      "        10           0.6725           11.83s\n",
      "        20           0.4672           10.89s\n",
      "        30           0.3179           10.35s\n",
      "        40           0.2274            9.91s\n",
      "        50           0.1774            9.35s\n",
      "        60           0.1394            8.89s\n",
      "        70           0.1050            8.42s\n",
      "        80           0.0805            7.92s\n",
      "        90           0.0650            7.41s\n",
      "       100           0.0511            6.96s\n",
      "       200           0.0058            2.37s\n"
     ]
    },
    {
     "data": {
      "image/png": "[encoded data removed]",
      "text/plain": [
       "<Figure size 432x288 with 1 Axes>"
      ]
     },
     "metadata": {
      "needs_background": "light"
     },
     "output_type": "display_data"
    },
    {
     "name": "stdout",
     "output_type": "stream",
     "text": [
      "      Iter       Train Loss   Remaining Time \n",
      "         1           1.2095           17.16s\n",
      "         2           1.1006           15.64s\n",
      "         3           1.0240           15.06s\n",
      "         4           0.9729           15.03s\n",
      "         5           0.9387           13.99s\n",
      "         6           0.8948           13.98s\n",
      "         7           0.8621           13.47s\n",
      "         8           0.8360           12.99s\n",
      "         9           0.8171           12.83s\n",
      "        10           0.7883           12.63s\n",
      "        20           0.6164           11.33s\n",
      "        30           0.4933           10.58s\n",
      "        40           0.4248            9.81s\n",
      "        50           0.3345            9.42s\n",
      "        60           0.2760            8.86s\n",
      "        70           0.2263            8.42s\n",
      "        80           0.1971            7.87s\n",
      "        90           0.1693            7.40s\n",
      "       100           0.1388            6.97s\n",
      "       200           0.0294            2.29s\n"
     ]
    },
    {
     "data": {
      "image/png": "[encoded data removed]",
      "text/plain": [
       "<Figure size 432x288 with 1 Axes>"
      ]
     },
     "metadata": {
      "needs_background": "light"
     },
     "output_type": "display_data"
    },
    {
     "name": "stdout",
     "output_type": "stream",
     "text": [
      "      Iter       Train Loss   Remaining Time \n",
      "         1           1.2613           14.42s\n",
      "         2           1.1715           14.29s\n",
      "         3           1.1009           14.17s\n",
      "         4           1.0529           14.63s\n",
      "         5           1.0130           14.57s\n",
      "         6           0.9740           14.39s\n",
      "         7           0.9475           13.67s\n",
      "         8           0.9197           13.83s\n",
      "         9           0.8979           13.41s\n",
      "        10           0.8730           13.67s\n",
      "        20           0.7207           11.61s\n",
      "        30           0.6055           10.72s\n",
      "        40           0.5244           10.07s\n",
      "        50           0.4501            9.44s\n",
      "        60           0.3908            8.91s\n",
      "        70           0.3372            8.41s\n",
      "        80           0.3009            7.95s\n",
      "        90           0.2603            7.48s\n",
      "       100           0.2327            6.98s\n",
      "       200           0.0835            2.29s\n"
     ]
    },
    {
     "data": {
      "image/png": "[encoded data removed]",
      "text/plain": [
       "<Figure size 432x288 with 1 Axes>"
      ]
     },
     "metadata": {
      "needs_background": "light"
     },
     "output_type": "display_data"
    },
    {
     "name": "stdout",
     "output_type": "stream",
     "text": [
      "      Iter       Train Loss   Remaining Time \n",
      "         1           1.3199           14.52s\n",
      "         2           1.2645           15.96s\n",
      "         3           1.2170           15.32s\n",
      "         4           1.1775           15.25s\n",
      "         5           1.1404           14.98s\n",
      "         6           1.1106           14.77s\n",
      "         7           1.0844           14.75s\n",
      "         8           1.0617           14.70s\n",
      "         9           1.0411           14.56s\n",
      "        10           1.0223           14.43s\n",
      "        20           0.8864           12.96s\n",
      "        30           0.7844           11.68s\n",
      "        40           0.7176           10.66s\n",
      "        50           0.6590            9.93s\n",
      "        60           0.6120            9.27s\n",
      "        70           0.5599            8.72s\n",
      "        80           0.5242            8.14s\n",
      "        90           0.4829            7.63s\n",
      "       100           0.4473            7.11s\n",
      "       200           0.2379            2.29s\n"
     ]
    },
    {
     "data": {
      "image/png": "[encoded data removed]",
      "text/plain": [
       "<Figure size 432x288 with 1 Axes>"
      ]
     },
     "metadata": {
      "needs_background": "light"
     },
     "output_type": "display_data"
    }
   ],
   "source": [
    "minimum = []\n",
    "plt\n",
    "for learning_rate in [1, 0.5, 0.3, 0.2, 0.1]:\n",
    "    classifier = GradientBoostingClassifier(learning_rate = learning_rate, n_estimators=250, verbose=True, random_state=241)\n",
    "    classifier.fit(X_train, y_train)\n",
    "    \n",
    "    train_loss = [0 for i in range(250)]\n",
    "    test_loss = [0 for i in range(250)]\n",
    "    \n",
    "    for i, y_pred in enumerate(classifier.staged_decision_function(X_train)):\n",
    "        y_pred = 1.0 / (1.0 +np.exp(-y_pred))\n",
    "        train_loss[i] = log_loss(y_train, y_pred)\n",
    "    \n",
    "    for i, y_pred in enumerate(classifier.staged_decision_function(X_test)):\n",
    "        y_pred = [1 / (1 + math.exp(-k)) for k in y_pred]\n",
    "        test_loss[i] = log_loss(y_test, y_pred)\n",
    "        \n",
    "    \n",
    "    minum = min(test_loss)\n",
    "    index = test_loss.index(minum)\n",
    "    \n",
    "    minimum.append([learning_rate, minum, index])\n",
    "    plt.grid()\n",
    "    plt.plot(test_loss, 'r', linewidth = 2)\n",
    "    plt.plot(train_loss, 'g', linewidth = 2)\n",
    "    plt.legend(['test','train'])\n",
    "    plt.show()\n"
   ]
  },
  {
   "cell_type": "code",
   "execution_count": 10,
   "metadata": {},
   "outputs": [
    {
     "name": "stdout",
     "output_type": "stream",
     "text": [
      "[[1, 0.5822942594278476, 0], [0.5, 0.5582025523164261, 6], [0.3, 0.5423141110024554, 10], [0.2, 0.5314507963190638, 36], [0.1, 0.5269201872275844, 51]]\n"
     ]
    }
   ],
   "source": [
    "print(minimum)"
   ]
  },
  {
   "cell_type": "code",
   "execution_count": 113,
   "metadata": {},
   "outputs": [
    {
     "data": {
      "text/plain": [
       "7"
      ]
     },
     "execution_count": 113,
     "metadata": {},
     "output_type": "execute_result"
    }
   ],
   "source": [
    "open('answer2.txt', 'tw', encoding='utf-8').write(str(round(minimum[3][1],2))+' '+str(minimum[3][2]))"
   ]
  },
  {
   "cell_type": "code",
   "execution_count": 114,
   "metadata": {},
   "outputs": [
    {
     "data": {
      "text/plain": [
       "11"
      ]
     },
     "execution_count": 114,
     "metadata": {},
     "output_type": "execute_result"
    }
   ],
   "source": [
    "vopen('answer1.txt', 'tw', encoding='utf-8').write('overfitting')"
   ]
  },
  {
   "cell_type": "code",
   "execution_count": 11,
   "metadata": {},
   "outputs": [],
   "source": [
    "forest = GradientBoostingClassifier(n_estimators = 36, random_state=241)"
   ]
  },
  {
   "cell_type": "code",
   "execution_count": 12,
   "metadata": {},
   "outputs": [
    {
     "name": "stdout",
     "output_type": "stream",
     "text": [
      "0.5672749940622688\n"
     ]
    }
   ],
   "source": [
    "forest.fit(X_train, y_train)\n",
    "proba = forest.predict_proba(X_test)\n",
    "test_loss = log_loss(y_test, y_pred)\n",
    "print(test_loss)"
   ]
  },
  {
   "cell_type": "code",
   "execution_count": 135,
   "metadata": {},
   "outputs": [
    {
     "data": {
      "text/plain": [
       "4"
      ]
     },
     "execution_count": 135,
     "metadata": {},
     "output_type": "execute_result"
    }
   ],
   "source": [
    "open('answer3.txt', 'tw', encoding='utf-8').write(str(round(test_loss,2)))"
   ]
  },
  {
   "cell_type": "code",
   "execution_count": 200,
   "metadata": {},
   "outputs": [
    {
     "name": "stdout",
     "output_type": "stream",
     "text": [
      "1.3632148575543495\n",
      "1.3632148575543495\n",
      "1.3632148575543495\n",
      "1.3632148575543495\n",
      "1.3632148575543495\n",
      "1.3632148575543495\n",
      "1.3632148575543495\n",
      "1.3632148575543495\n",
      "1.3632148575543495\n",
      "1.3632148575543495\n",
      "1.3632148575543495\n",
      "1.3632148575543495\n",
      "1.3632148575543495\n",
      "1.3632148575543495\n",
      "1.3632148575543495\n",
      "1.3632148575543495\n",
      "1.3632148575543495\n",
      "1.3632148575543495\n",
      "1.3632148575543495\n",
      "1.3632148575543495\n",
      "1.3632148575543495\n",
      "1.3632148575543495\n",
      "1.3632148575543495\n",
      "1.3632148575543495\n",
      "1.3632148575543495\n",
      "1.3632148575543495\n",
      "1.3632148575543495\n",
      "1.3632148575543495\n",
      "1.3632148575543495\n",
      "1.3632148575543495\n",
      "1.3632148575543495\n",
      "1.3632148575543495\n",
      "1.3632148575543495\n",
      "1.3632148575543495\n",
      "1.3632148575543495\n",
      "1.3632148575543495\n",
      "1.3632148575543495\n",
      "1.3632148575543495\n",
      "1.3632148575543495\n"
     ]
    }
   ],
   "source": [
    "minim = 1000\n",
    "index = -1\n",
    "for i in range(11,50):\n",
    "    forest1 = RandomForestClassifier(n_estimators = i, random_state=241)\n",
    "    forest1.fit(X_train, y_train)\n",
    "    proba = forest1.predict_proba(X_test)\n",
    "    test_loss = log_loss(y_test, y_pred)\n",
    "    print(test_loss)\n",
    "    if (test_loss < minim):\n",
    "        minim = test_loss\n",
    "        index = i"
   ]
  },
  {
   "cell_type": "code",
   "execution_count": 152,
   "metadata": {},
   "outputs": [
    {
     "data": {
      "text/plain": [
       "0.5672749940622688"
      ]
     },
     "execution_count": 152,
     "metadata": {},
     "output_type": "execute_result"
    }
   ],
   "source": [
    "minim"
   ]
  },
  {
   "cell_type": "code",
   "execution_count": 153,
   "metadata": {},
   "outputs": [
    {
     "data": {
      "text/plain": [
       "11"
      ]
     },
     "execution_count": 153,
     "metadata": {},
     "output_type": "execute_result"
    }
   ],
   "source": [
    "index"
   ]
  },
  {
   "cell_type": "code",
   "execution_count": 195,
   "metadata": {},
   "outputs": [
    {
     "data": {
      "text/plain": [
       "750"
      ]
     },
     "execution_count": 195,
     "metadata": {},
     "output_type": "execute_result"
    }
   ],
   "source": [
    "len(c)"
   ]
  },
  {
   "cell_type": "code",
   "execution_count": 186,
   "metadata": {},
   "outputs": [
    {
     "data": {
      "text/plain": [
       "3001"
      ]
     },
     "execution_count": 186,
     "metadata": {},
     "output_type": "execute_result"
    }
   ],
   "source": [
    "len(X_test)"
   ]
  },
  {
   "cell_type": "code",
   "execution_count": 201,
   "metadata": {},
   "outputs": [
    {
     "data": {
      "text/plain": [
       "numpy.float64"
      ]
     },
     "execution_count": 201,
     "metadata": {},
     "output_type": "execute_result"
    }
   ],
   "source": [
    "type(min)"
   ]
  },
  {
   "cell_type": "code",
   "execution_count": null,
   "metadata": {},
   "outputs": [],
   "source": []
  }
 ],
 "metadata": {
  "kernelspec": {
   "display_name": "Python 3",
   "language": "python",
   "name": "python3"
  },
  "language_info": {
   "codemirror_mode": {
    "name": "ipython",
    "version": 3
   },
   "file_extension": ".py",
   "mimetype": "text/x-python",
   "name": "python",
   "nbconvert_exporter": "python",
   "pygments_lexer": "ipython3",
   "version": "3.6.7"
  }
 },
 "nbformat": 4,
 "nbformat_minor": 2
}
